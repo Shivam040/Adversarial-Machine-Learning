{
 "cells": [
  {
   "cell_type": "markdown",
   "metadata": {},
   "source": [
    "### Index\n",
    "1. Importing Libraries\n",
    "2. Data and it's preprocessing\n",
    "3. Model\n",
    "4. Model's 50 lowest confidence predictions\n",
    "5. HopSkipJump\n",
    "6. CopyCatCNN\n",
    "7. Adverserial Dataset\n",
    "8. Defense"
   ]
  },
  {
   "cell_type": "markdown",
   "metadata": {},
   "source": [
    "### Importing Libraries"
   ]
  },
  {
   "cell_type": "code",
   "execution_count": null,
   "metadata": {},
   "outputs": [
    {
     "name": "stderr",
     "output_type": "stream",
     "text": [
      "c:\\Users\\dangw\\anaconda3\\envs\\mnist\\lib\\site-packages\\tqdm\\auto.py:21: TqdmWarning: IProgress not found. Please update jupyter and ipywidgets. See https://ipywidgets.readthedocs.io/en/stable/user_install.html\n",
      "  from .autonotebook import tqdm as notebook_tqdm\n",
      "c:\\Users\\dangw\\anaconda3\\envs\\mnist\\lib\\site-packages\\art\\estimators\\certification\\__init__.py:30: UserWarning: PyTorch not found. Not importing DeepZ or Interval Bound Propagation functionality\n",
      "  warnings.warn(\"PyTorch not found. Not importing DeepZ or Interval Bound Propagation functionality\")\n"
     ]
    }
   ],
   "source": [
    "import numpy as np\n",
    "import tensorflow.compat.v1 as tf\n",
    "from art.estimators.classification import TensorFlowV2Classifier\n",
    "import matplotlib.pyplot as plt\n",
    "import numpy as np\n",
    "import tensorflow as tf\n",
    "import pandas as pd\n",
    "import pickle\n",
    "from art.attacks.evasion import HopSkipJump\n",
    "from art.estimators.classification import TensorFlowV2Classifier\n",
    "from tensorflow.keras.losses import CategoricalCrossentropy\n",
    "from tensorflow.keras.models import load_model"
   ]
  },
  {
   "cell_type": "markdown",
   "metadata": {},
   "source": [
    "### Data and it's preprocessing"
   ]
  },
  {
   "cell_type": "code",
   "execution_count": 2,
   "metadata": {},
   "outputs": [
    {
     "name": "stdout",
     "output_type": "stream",
     "text": [
      "dict_keys(['filenames', 'batch_label', 'fine_labels', 'coarse_labels', 'data'])\n"
     ]
    }
   ],
   "source": [
    "# Load all batches\n",
    "file_path = r'..\\..\\3. CIFER-100\\cifar-100-python\\cifar-100-python\\train'\n",
    "with open(file_path, 'rb') as f:\n",
    "    data_dict = pickle.load(f, encoding='latin1')\n",
    "\n",
    "# The data_dict will conwtain the images and their corresponding labels\n",
    "print(data_dict.keys())  "
   ]
  },
  {
   "cell_type": "code",
   "execution_count": 3,
   "metadata": {},
   "outputs": [],
   "source": [
    "data = pd.DataFrame({\n",
    "    'image_data': list(data_dict['data']),  # Each row will contain 3072 values for image data\n",
    "    'fine_label': data_dict['fine_labels']  # Fine-grained labels\n",
    "})"
   ]
  },
  {
   "cell_type": "code",
   "execution_count": null,
   "metadata": {},
   "outputs": [],
   "source": [
    "# reshaping the image_data column\n",
    "data['image_data'] = data['image_data'].apply(\n",
    "    lambda x: np.array(x).reshape((3, 32, 32)).transpose(1, 2, 0)\n",
    ")"
   ]
  },
  {
   "cell_type": "code",
   "execution_count": 5,
   "metadata": {},
   "outputs": [],
   "source": [
    "data['image_data'] = data['image_data'] / 255.0"
   ]
  },
  {
   "cell_type": "code",
   "execution_count": 6,
   "metadata": {},
   "outputs": [],
   "source": [
    "data['image_data'] = data['image_data'].map(lambda x: (np.round(x, 2)))"
   ]
  },
  {
   "cell_type": "code",
   "execution_count": null,
   "metadata": {},
   "outputs": [
    {
     "name": "stdout",
     "output_type": "stream",
     "text": [
      "dict_keys(['filenames', 'batch_label', 'fine_labels', 'coarse_labels', 'data'])\n"
     ]
    }
   ],
   "source": [
    "# Path to the CIFAR-100 train file\n",
    "file_path =r'..\\..\\3. CIFER-100\\cifar-100-python\\cifar-100-python\\test'\n",
    "\n",
    "# Load the data using pickle with the correct encoding\n",
    "with open(file_path, 'rb') as f:\n",
    "    test_dict = pickle.load(f, encoding='latin1')\n",
    "\n",
    "# The data_dict will contain the images and their corresponding labels\n",
    "print(test_dict.keys())"
   ]
  },
  {
   "cell_type": "code",
   "execution_count": 8,
   "metadata": {},
   "outputs": [],
   "source": [
    "test = pd.DataFrame({\n",
    "    'image_data': list(test_dict['data']),  # Each row will contain 3072 values for image data\n",
    "    'fine_label': test_dict['fine_labels']  # Fine-grained labels\n",
    "})"
   ]
  },
  {
   "cell_type": "code",
   "execution_count": 9,
   "metadata": {},
   "outputs": [],
   "source": [
    "test['image_data'] = test['image_data'].apply(\n",
    "    lambda x: np.array(x).reshape((3, 32, 32)).transpose(1, 2, 0)\n",
    ")"
   ]
  },
  {
   "cell_type": "code",
   "execution_count": 10,
   "metadata": {},
   "outputs": [],
   "source": [
    "test['image_data'] = test['image_data'] / 255.0"
   ]
  },
  {
   "cell_type": "code",
   "execution_count": 11,
   "metadata": {},
   "outputs": [],
   "source": [
    "test['image_data'] = test['image_data'].map(lambda x: (np.round(x, 2)))"
   ]
  },
  {
   "cell_type": "code",
   "execution_count": null,
   "metadata": {},
   "outputs": [],
   "source": [
    "train_images = np.array(data['image_data'].tolist())\n",
    "train_labels = np.array(data['fine_label'])  "
   ]
  },
  {
   "cell_type": "code",
   "execution_count": null,
   "metadata": {},
   "outputs": [],
   "source": [
    "test_images = np.array(test['image_data'].tolist())  \n",
    "test_labels = np.array(test['fine_label'])  "
   ]
  },
  {
   "cell_type": "code",
   "execution_count": 14,
   "metadata": {},
   "outputs": [
    {
     "data": {
      "text/plain": [
       "(32, 32, 3)"
      ]
     },
     "execution_count": 14,
     "metadata": {},
     "output_type": "execute_result"
    }
   ],
   "source": [
    "train_images[0].shape"
   ]
  },
  {
   "cell_type": "code",
   "execution_count": null,
   "metadata": {},
   "outputs": [],
   "source": [
    "model_path = r\"..\\..\\3. CIFER-100\\models\\ResNet.h5\"\n",
    "model = load_model(model_path, custom_objects={\"SeparableConv2D\": tf.keras.layers.SeparableConv2D})"
   ]
  },
  {
   "cell_type": "code",
   "execution_count": 16,
   "metadata": {},
   "outputs": [],
   "source": [
    "from tensorflow.keras.optimizers import Adam"
   ]
  },
  {
   "cell_type": "markdown",
   "metadata": {},
   "source": [
    "### Model"
   ]
  },
  {
   "cell_type": "code",
   "execution_count": 17,
   "metadata": {},
   "outputs": [],
   "source": [
    "model.compile(\n",
    "    optimizer=Adam(learning_rate=0.00001),\n",
    "    loss=\"sparse_categorical_crossentropy\",\n",
    "    metrics=[\"sparse_categorical_accuracy\"],\n",
    ")"
   ]
  },
  {
   "cell_type": "code",
   "execution_count": 18,
   "metadata": {},
   "outputs": [
    {
     "name": "stdout",
     "output_type": "stream",
     "text": [
      "1563/1563 [==============================] - 135s 79ms/step - loss: 0.0334 - sparse_categorical_accuracy: 0.9929\n"
     ]
    }
   ],
   "source": [
    "training = model.fit(train_images, train_labels,epochs=1)"
   ]
  },
  {
   "cell_type": "code",
   "execution_count": 19,
   "metadata": {},
   "outputs": [],
   "source": [
    "test_images = tf.convert_to_tensor(test_images, dtype=tf.float32)"
   ]
  },
  {
   "cell_type": "code",
   "execution_count": 20,
   "metadata": {},
   "outputs": [],
   "source": [
    "# Define loss function\n",
    "loss_object = CategoricalCrossentropy()"
   ]
  },
  {
   "cell_type": "code",
   "execution_count": 88,
   "metadata": {},
   "outputs": [],
   "source": [
    "optimizer = tf.keras.optimizers.Adam()"
   ]
  },
  {
   "cell_type": "code",
   "execution_count": 89,
   "metadata": {},
   "outputs": [],
   "source": [
    "classifier = TensorFlowV2Classifier(model=model, nb_classes=100, input_shape=(32, 32, 3), clip_values=(0, 1), loss_object=loss_object, optimizer=optimizer, channels_first=False)"
   ]
  },
  {
   "cell_type": "code",
   "execution_count": 22,
   "metadata": {},
   "outputs": [],
   "source": [
    "test_images = test_images.numpy() if isinstance(test_images, tf.Tensor) else test_images"
   ]
  },
  {
   "cell_type": "markdown",
   "metadata": {},
   "source": [
    "### Model's 50 lowest confidence predictions"
   ]
  },
  {
   "cell_type": "code",
   "execution_count": 23,
   "metadata": {},
   "outputs": [],
   "source": [
    "predictions = model.predict(test_images)"
   ]
  },
  {
   "cell_type": "code",
   "execution_count": 24,
   "metadata": {},
   "outputs": [],
   "source": [
    "confidence_score = np.max(predictions, axis=1)"
   ]
  },
  {
   "cell_type": "code",
   "execution_count": 25,
   "metadata": {},
   "outputs": [],
   "source": [
    "least_confidence_indices = np.argsort(confidence_score)[:50]"
   ]
  },
  {
   "cell_type": "code",
   "execution_count": 26,
   "metadata": {},
   "outputs": [],
   "source": [
    "least_confidence_images = test_images[least_confidence_indices]\n",
    "least_confidence_labels = test_labels[least_confidence_indices]"
   ]
  },
  {
   "cell_type": "code",
   "execution_count": 27,
   "metadata": {},
   "outputs": [
    {
     "name": "stdout",
     "output_type": "stream",
     "text": [
      "Image 0:\n",
      "Original Label: 50, Original Pred: 4, \n",
      "Image 1:\n",
      "Original Label: 66, Original Pred: 51, \n",
      "Image 2:\n",
      "Original Label: 82, Original Pred: 33, \n",
      "Image 3:\n",
      "Original Label: 22, Original Pred: 45, \n",
      "Image 4:\n",
      "Original Label: 85, Original Pred: 25, \n",
      "Image 5:\n",
      "Original Label: 42, Original Pred: 50, \n",
      "Image 6:\n",
      "Original Label: 67, Original Pred: 32, \n",
      "Image 7:\n",
      "Original Label: 31, Original Pred: 64, \n",
      "Image 8:\n",
      "Original Label: 9, Original Pred: 46, \n",
      "Image 9:\n",
      "Original Label: 64, Original Pred: 44, \n",
      "Image 10:\n",
      "Original Label: 32, Original Pred: 66, \n",
      "Image 11:\n",
      "Original Label: 66, Original Pred: 67, \n",
      "Image 12:\n",
      "Original Label: 3, Original Pred: 3, \n",
      "Image 13:\n",
      "Original Label: 3, Original Pred: 4, \n",
      "Image 14:\n",
      "Original Label: 29, Original Pred: 76, \n",
      "Image 15:\n",
      "Original Label: 42, Original Pred: 59, \n",
      "Image 16:\n",
      "Original Label: 31, Original Pred: 31, \n",
      "Image 17:\n",
      "Original Label: 26, Original Pred: 75, \n",
      "Image 18:\n",
      "Original Label: 65, Original Pred: 38, \n",
      "Image 19:\n",
      "Original Label: 7, Original Pred: 7, \n",
      "Image 20:\n",
      "Original Label: 74, Original Pred: 44, \n",
      "Image 21:\n",
      "Original Label: 70, Original Pred: 73, \n",
      "Image 22:\n",
      "Original Label: 74, Original Pred: 96, \n",
      "Image 23:\n",
      "Original Label: 65, Original Pred: 40, \n",
      "Image 24:\n",
      "Original Label: 34, Original Pred: 34, \n",
      "Image 25:\n",
      "Original Label: 23, Original Pred: 49, \n",
      "Image 26:\n",
      "Original Label: 72, Original Pred: 19, \n",
      "Image 27:\n",
      "Original Label: 45, Original Pred: 66, \n",
      "Image 28:\n",
      "Original Label: 19, Original Pred: 80, \n",
      "Image 29:\n",
      "Original Label: 48, Original Pred: 48, \n",
      "Image 30:\n",
      "Original Label: 72, Original Pred: 44, \n",
      "Image 31:\n",
      "Original Label: 15, Original Pred: 15, \n",
      "Image 32:\n",
      "Original Label: 67, Original Pred: 63, \n",
      "Image 33:\n",
      "Original Label: 64, Original Pred: 80, \n",
      "Image 34:\n",
      "Original Label: 64, Original Pred: 50, \n",
      "Image 35:\n",
      "Original Label: 32, Original Pred: 99, \n",
      "Image 36:\n",
      "Original Label: 55, Original Pred: 65, \n",
      "Image 37:\n",
      "Original Label: 44, Original Pred: 50, \n",
      "Image 38:\n",
      "Original Label: 43, Original Pred: 3, \n",
      "Image 39:\n",
      "Original Label: 35, Original Pred: 50, \n",
      "Image 40:\n",
      "Original Label: 72, Original Pred: 46, \n",
      "Image 41:\n",
      "Original Label: 72, Original Pred: 95, \n",
      "Image 42:\n",
      "Original Label: 58, Original Pred: 90, \n",
      "Image 43:\n",
      "Original Label: 19, Original Pred: 37, \n",
      "Image 44:\n",
      "Original Label: 18, Original Pred: 18, \n",
      "Image 45:\n",
      "Original Label: 11, Original Pred: 4, \n",
      "Image 46:\n",
      "Original Label: 86, Original Pred: 76, \n",
      "Image 47:\n",
      "Original Label: 27, Original Pred: 66, \n",
      "Image 48:\n",
      "Original Label: 79, Original Pred: 1, \n",
      "Image 49:\n",
      "Original Label: 91, Original Pred: 55, \n"
     ]
    }
   ],
   "source": [
    "original_preds = np.argmax(model.predict(least_confidence_images), axis=1)\n",
    "\n",
    "# Print comparison\n",
    "for i in range(50):\n",
    "    print(f\"Image {i}:\")\n",
    "    print(f\"Original Label: {least_confidence_labels[i]}, \"\n",
    "          f\"Original Pred: {original_preds[i]}, \")"
   ]
  },
  {
   "cell_type": "markdown",
   "metadata": {},
   "source": [
    "### HopSkipJump"
   ]
  },
  {
   "cell_type": "code",
   "execution_count": 30,
   "metadata": {},
   "outputs": [],
   "source": [
    "original_image = np.expand_dims(test_images[24], axis=0)  # Shape (1, 32, 32, 3)\n",
    "original_label = np.argmax(test_labels[24])"
   ]
  },
  {
   "cell_type": "code",
   "execution_count": 31,
   "metadata": {},
   "outputs": [
    {
     "name": "stderr",
     "output_type": "stream",
     "text": [
      "HopSkipJump: 100%|██████████| 1/1 [00:43<00:00, 43.75s/it]\n"
     ]
    }
   ],
   "source": [
    "attack = HopSkipJump(classifier=classifier, targeted=False, max_iter=50)\n",
    "adversarial_image = attack.generate(original_image)"
   ]
  },
  {
   "cell_type": "code",
   "execution_count": 32,
   "metadata": {},
   "outputs": [
    {
     "data": {
      "image/png": "[encoded data removed]",
      "text/plain": [
       "<Figure size 1000x500 with 2 Axes>"
      ]
     },
     "metadata": {},
     "output_type": "display_data"
    }
   ],
   "source": [
    "import matplotlib.pyplot as plt\n",
    "\n",
    "plt.figure(figsize=(10, 5))\n",
    "\n",
    "# Original Image\n",
    "plt.subplot(1, 2, 1)\n",
    "plt.imshow(original_image[0])\n",
    "plt.title(f\"Original Image (Label: {original_label})\")\n",
    "plt.axis(\"off\")\n",
    "\n",
    "# Adversarial Image\n",
    "plt.subplot(1, 2, 2)\n",
    "plt.imshow(adversarial_image[0])\n",
    "plt.title(\"Adversarial Image\")\n",
    "plt.axis(\"off\")\n",
    "\n",
    "plt.show()"
   ]
  },
  {
   "cell_type": "code",
   "execution_count": 33,
   "metadata": {},
   "outputs": [
    {
     "name": "stdout",
     "output_type": "stream",
     "text": [
      "Original Prediction: 21\n",
      "Adversarial Prediction: 33\n"
     ]
    }
   ],
   "source": [
    "orig_pred = np.argmax(classifier.predict(original_image))\n",
    "adv_pred = np.argmax(classifier.predict(adversarial_image))\n",
    "\n",
    "print(f\"Original Prediction: {orig_pred}\")\n",
    "print(f\"Adversarial Prediction: {adv_pred}\")"
   ]
  },
  {
   "cell_type": "code",
   "execution_count": 34,
   "metadata": {},
   "outputs": [
    {
     "name": "stdout",
     "output_type": "stream",
     "text": [
      "Average perturbation: 0.0051255631\n"
     ]
    }
   ],
   "source": [
    "perturbation = np.mean(np.abs(original_image[0] - adversarial_image[0]))\n",
    "print(f\"Average perturbation: {perturbation:.10f}\")  # Increased decimal places"
   ]
  },
  {
   "cell_type": "markdown",
   "metadata": {},
   "source": [
    "### CopyCatCNN"
   ]
  },
  {
   "cell_type": "code",
   "execution_count": 51,
   "metadata": {},
   "outputs": [],
   "source": [
    "# Define loss and optimizer\n",
    "loss_object = tf.keras.losses.CategoricalCrossentropy()\n",
    "optimizer = tf.keras.optimizers.Adam()"
   ]
  },
  {
   "cell_type": "code",
   "execution_count": 52,
   "metadata": {},
   "outputs": [],
   "source": [
    "@tf.function\n",
    "def train_step(model, x, y):\n",
    "    with tf.GradientTape() as tape:\n",
    "        predictions = model(x, training=True)\n",
    "        loss = loss_object(y, predictions)\n",
    "    gradients = tape.gradient(loss, model.trainable_variables)\n",
    "    optimizer.apply_gradients(zip(gradients, model.trainable_variables))"
   ]
  },
  {
   "cell_type": "code",
   "execution_count": 56,
   "metadata": {},
   "outputs": [],
   "source": [
    "\n",
    "# Initialize the ART classifier with explicit train_step\n",
    "classifier2 = TensorFlowV2Classifier(\n",
    "    model=model,\n",
    "    nb_classes=100,  # CIFAR-100 has 100 classes\n",
    "    input_shape=(32, 32, 3),\n",
    "    clip_values=(0, 1),\n",
    "    loss_object=loss_object,\n",
    "    optimizer=optimizer,  # ✅ Explicit optimizer\n",
    "    train_step=train_step,  # ✅ Explicit train_step\n",
    "    channels_first=False\n",
    ")"
   ]
  },
  {
   "cell_type": "code",
   "execution_count": 57,
   "metadata": {},
   "outputs": [],
   "source": [
    "from art.attacks.extraction import CopycatCNN\n",
    "cc_attack = CopycatCNN(classifier = classifier2, batch_size_fit=5, \n",
    "                        batch_size_query=10,\n",
    "                        nb_epochs=5,\n",
    "                        nb_stolen=100)"
   ]
  },
  {
   "cell_type": "code",
   "execution_count": 58,
   "metadata": {},
   "outputs": [],
   "source": [
    "x_extr,y_extr = train_images[:5000], train_labels[:5000]"
   ]
  },
  {
   "cell_type": "code",
   "execution_count": 59,
   "metadata": {},
   "outputs": [],
   "source": [
    "stolen_classifier = cc_attack.extract(x_extr,y_extr,thieved_classifier=classifier)"
   ]
  },
  {
   "cell_type": "code",
   "execution_count": 60,
   "metadata": {},
   "outputs": [
    {
     "name": "stdout",
     "output_type": "stream",
     "text": [
      "313/313 [==============================] - 8s 23ms/step - loss: 2.0708 - sparse_categorical_accuracy: 0.6127\n"
     ]
    },
    {
     "data": {
      "text/plain": [
       "[2.070765733718872, 0.6126999855041504]"
      ]
     },
     "execution_count": 60,
     "metadata": {},
     "output_type": "execute_result"
    }
   ],
   "source": [
    "stolen_classifier._model.evaluate(test_images,test_labels)"
   ]
  },
  {
   "cell_type": "markdown",
   "metadata": {},
   "source": [
    "### Adversarial Dataset"
   ]
  },
  {
   "cell_type": "code",
   "execution_count": 92,
   "metadata": {},
   "outputs": [],
   "source": [
    "# Assuming test_images is a NumPy array of shape (num_samples, height, width, channels)\n",
    "num_samples = test_images.shape[0]\n",
    "\n",
    "# Select 500 random indices without replacement\n",
    "random_indices = np.random.choice(num_samples, 100, replace=False)\n",
    "\n",
    "# Select corresponding images\n",
    "selected_images = test_images[random_indices]"
   ]
  },
  {
   "cell_type": "code",
   "execution_count": 93,
   "metadata": {},
   "outputs": [],
   "source": [
    "selected_labels = test_labels[random_indices]"
   ]
  },
  {
   "cell_type": "code",
   "execution_count": 94,
   "metadata": {},
   "outputs": [
    {
     "name": "stderr",
     "output_type": "stream",
     "text": [
      "HopSkipJump: 100%|██████████| 100/100 [13:01<00:00,  7.81s/it]\n"
     ]
    }
   ],
   "source": [
    "attack = HopSkipJump(classifier=classifier, targeted=False, max_iter=15)\n",
    "adversarial_data = attack.generate(selected_images)"
   ]
  },
  {
   "cell_type": "code",
   "execution_count": 97,
   "metadata": {},
   "outputs": [
    {
     "name": "stdout",
     "output_type": "stream",
     "text": [
      "Accuracy on adversarial data: 11.00%\n"
     ]
    }
   ],
   "source": [
    "predictions = classifier.predict(adversarial_data)\n",
    "predicted_labels = np.argmax(predictions, axis=1)\n",
    "accuracy_adv = np.mean(predicted_labels == selected_labels) * 100\n",
    "print(f\"Accuracy on adversarial data: {accuracy_adv:.2f}%\")"
   ]
  },
  {
   "cell_type": "markdown",
   "metadata": {},
   "source": [
    "### Defense"
   ]
  },
  {
   "cell_type": "code",
   "execution_count": null,
   "metadata": {},
   "outputs": [],
   "source": [
    "from art.defences.trainer import AdversarialTrainer"
   ]
  },
  {
   "cell_type": "code",
   "execution_count": 99,
   "metadata": {},
   "outputs": [],
   "source": [
    "trainer = AdversarialTrainer(classifier=classifier, attacks=attack)"
   ]
  },
  {
   "cell_type": "code",
   "execution_count": 128,
   "metadata": {},
   "outputs": [
    {
     "name": "stdout",
     "output_type": "stream",
     "text": [
      "Selected dataset shape: (300, 32, 32, 3), (300,)\n"
     ]
    }
   ],
   "source": [
    "samples_per_class = 3\n",
    "num_classes = 100\n",
    "\n",
    "x_train_selected = []\n",
    "y_train_selected = []\n",
    "\n",
    "for class_label in range(num_classes):\n",
    "    class_indices = np.where(train_labels == class_label)[0]\n",
    "    \n",
    "    if len(class_indices) < samples_per_class:\n",
    "        print(f\"Warning: Class {class_label} has only {len(class_indices)} samples, selecting all.\")\n",
    "        selected_indices = class_indices\n",
    "    else:\n",
    "        selected_indices = np.random.choice(class_indices, samples_per_class, replace=False)\n",
    "    \n",
    "    # Append selected samples\n",
    "    x_train_selected.append(train_images[selected_indices])\n",
    "    y_train_selected.append(train_labels[selected_indices])\n",
    "\n",
    "# Convert lists to NumPy arrays\n",
    "x_train_selected = np.concatenate(x_train_selected, axis=0)\n",
    "y_train_selected = np.concatenate(y_train_selected, axis=0)\n",
    "\n",
    "print(f\"Selected dataset shape: {x_train_selected.shape}, {y_train_selected.shape}\")\n",
    "\n",
    "\n"
   ]
  },
  {
   "cell_type": "code",
   "execution_count": 104,
   "metadata": {},
   "outputs": [
    {
     "name": "stderr",
     "output_type": "stream",
     "text": [
      "Precompute adv samples: 100%|██████████| 1/1 [00:00<?, ?it/s]\n",
      "Adversarial training epochs: 100%|██████████| 20/20 [1:59:46<00:00, 359.34s/it]\n"
     ]
    }
   ],
   "source": [
    "trainer.fit(x_train_selected, y_train_selected, epochs=1, batch_size=32)"
   ]
  },
  {
   "cell_type": "code",
   "execution_count": 106,
   "metadata": {},
   "outputs": [
    {
     "name": "stdout",
     "output_type": "stream",
     "text": [
      "Accuracy after adversarial data: 36.00%\n"
     ]
    }
   ],
   "source": [
    "predictions = trainer.predict(adversarial_data)\n",
    "predicted_labels = np.argmax(predictions, axis=1)\n",
    "accuracy_adv = np.mean(predicted_labels == selected_labels) * 100\n",
    "print(f\"Accuracy after adversarial data: {accuracy_adv:.2f}%\")"
   ]
  },
  {
   "cell_type": "code",
   "execution_count": 107,
   "metadata": {},
   "outputs": [],
   "source": [
    "from art.defences.preprocessor import FeatureSqueezing\n",
    "\n",
    "# Initialize Feature Squeezing (reduce bit depth)\n",
    "feature_squeezer = FeatureSqueezing(bit_depth=5, apply_fit=False, apply_predict=True, clip_values=(0,1))\n",
    "\n",
    "# Apply both defenses\n",
    "x_test_squeezed, _ = feature_squeezer(test_images)"
   ]
  },
  {
   "cell_type": "code",
   "execution_count": 116,
   "metadata": {},
   "outputs": [
    {
     "name": "stdout",
     "output_type": "stream",
     "text": [
      "Accuracy after FeatureSqueezing data: 41.33%\n"
     ]
    }
   ],
   "source": [
    "predictions = trainer.predict(x_test_squeezed)\n",
    "predicted_labels = np.argmax(predictions, axis=1)\n",
    "accuracy_adv = np.mean(predicted_labels == test_labels) * 100\n",
    "print(f\"Accuracy after FeatureSqueezing data: {accuracy_adv:.2f}%\")"
   ]
  },
  {
   "cell_type": "code",
   "execution_count": 118,
   "metadata": {},
   "outputs": [],
   "source": [
    "from art.defences.preprocessor import GaussianAugmentation"
   ]
  },
  {
   "cell_type": "code",
   "execution_count": 119,
   "metadata": {},
   "outputs": [],
   "source": [
    "noiser = GaussianAugmentation(sigma=0.1)"
   ]
  },
  {
   "cell_type": "code",
   "execution_count": 124,
   "metadata": {},
   "outputs": [],
   "source": [
    "x_train_noisy, y_train_noisy = noiser(x_train_selected, y_train_selected)"
   ]
  },
  {
   "cell_type": "code",
   "execution_count": 125,
   "metadata": {},
   "outputs": [
    {
     "name": "stderr",
     "output_type": "stream",
     "text": [
      "Precompute adv samples: 100%|██████████| 1/1 [00:00<?, ?it/s]\n",
      "Adversarial training epochs: 100%|██████████| 5/5 [1:31:24<00:00, 1097.00s/it]\n"
     ]
    }
   ],
   "source": [
    "trainer.fit(x_train_noisy, y_train_noisy, nb_epochs=5)"
   ]
  },
  {
   "cell_type": "code",
   "execution_count": 127,
   "metadata": {},
   "outputs": [
    {
     "name": "stdout",
     "output_type": "stream",
     "text": [
      "Accuracy after Randomized Smoothing data: 40.35%\n"
     ]
    }
   ],
   "source": [
    "predictions = trainer.predict(test_images)\n",
    "predicted_labels = np.argmax(predictions, axis=1)\n",
    "accuracy_noisy = np.mean(predicted_labels == test_labels) * 100\n",
    "print(f\"Accuracy after Randomized Smoothing data: {accuracy_noisy:.2f}%\")"
   ]
  },
  {
   "cell_type": "code",
   "execution_count": null,
   "metadata": {},
   "outputs": [],
   "source": [
    "trainer.fit(x_train_selected, y_train_selected, epochs=1, batch_size=32)"
   ]
  },
  {
   "cell_type": "code",
   "execution_count": 131,
   "metadata": {},
   "outputs": [
    {
     "name": "stdout",
     "output_type": "stream",
     "text": [
      "Accuracy after adversarial data: 45.00%\n"
     ]
    }
   ],
   "source": [
    "predictions = trainer.predict(adversarial_data)\n",
    "predicted_labels = np.argmax(predictions, axis=1)\n",
    "accuracy_adv = np.mean(predicted_labels == selected_labels) * 100\n",
    "print(f\"Accuracy after adversarial data: {accuracy_adv:.2f}%\")"
   ]
  }
 ],
 "metadata": {
  "kernelspec": {
   "display_name": "mnist",
   "language": "python",
   "name": "python3"
  },
  "language_info": {
   "codemirror_mode": {
    "name": "ipython",
    "version": 3
   },
   "file_extension": ".py",
   "mimetype": "text/x-python",
   "name": "python",
   "nbconvert_exporter": "python",
   "pygments_lexer": "ipython3",
   "version": "3.8.20"
  }
 },
 "nbformat": 4,
 "nbformat_minor": 2
}
