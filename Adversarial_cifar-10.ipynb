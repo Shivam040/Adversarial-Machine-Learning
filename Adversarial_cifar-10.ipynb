{
 "cells": [
  {
   "cell_type": "markdown",
   "metadata": {},
   "source": [
    "#### Index\n",
    "1. Importing Libraries\n",
    "2. Data and it's preprocessing\n",
    "3. Model\n",
    "4. Model's 50 lowest confidence predictions\n",
    "5. CarliniL2Method For Correct Prediction of Model\n",
    "6. Creating Adversarial Dataset\n",
    "7. Defense"
   ]
  },
  {
   "cell_type": "markdown",
   "metadata": {},
   "source": [
    "### Importing Libraries"
   ]
  },
  {
   "cell_type": "code",
   "execution_count": 1,
   "metadata": {},
   "outputs": [
    {
     "name": "stderr",
     "output_type": "stream",
     "text": [
      "c:\\Users\\dangw\\anaconda3\\envs\\mnist\\lib\\site-packages\\tqdm\\auto.py:21: TqdmWarning: IProgress not found. Please update jupyter and ipywidgets. See https://ipywidgets.readthedocs.io/en/stable/user_install.html\n",
      "  from .autonotebook import tqdm as notebook_tqdm\n",
      "c:\\Users\\dangw\\anaconda3\\envs\\mnist\\lib\\site-packages\\art\\estimators\\certification\\__init__.py:30: UserWarning: PyTorch not found. Not importing DeepZ or Interval Bound Propagation functionality\n",
      "  warnings.warn(\"PyTorch not found. Not importing DeepZ or Interval Bound Propagation functionality\")\n"
     ]
    }
   ],
   "source": [
    "import numpy as np\n",
    "import tensorflow.compat.v1 as tf\n",
    "from art.estimators.classification import TensorFlowV2Classifier, KerasClassifier\n",
    "import matplotlib.pyplot as plt\n",
    "import numpy as np\n",
    "import matplotlib.pyplot as plt\n",
    "import tensorflow as tf\n",
    "from sklearn.metrics import f1_score, ConfusionMatrixDisplay\n",
    "import pandas as pd\n",
    "import pickle\n",
    "import os\n",
    "from tensorflow.keras.callbacks import ModelCheckpoint"
   ]
  },
  {
   "cell_type": "markdown",
   "metadata": {},
   "source": [
    "### Data and it's preprocessing"
   ]
  },
  {
   "cell_type": "code",
   "execution_count": null,
   "metadata": {},
   "outputs": [
    {
     "name": "stdout",
     "output_type": "stream",
     "text": [
      "Data shape: (50000, 3072)\n",
      "Labels shape: (50000,)\n"
     ]
    }
   ],
   "source": [
    "# Initialize empty lists to hold all data and labels\n",
    "all_data = []\n",
    "all_labels = []\n",
    "\n",
    "def file_open(file_path):\n",
    "    try:\n",
    "        with open(file_path, 'rb') as f:\n",
    "            data_dict = pickle.load(f, encoding='latin1')\n",
    "            all_data.append(data_dict['data'])  # Append batch data\n",
    "            all_labels.extend(data_dict['labels'])  # Extend labels\n",
    "    except FileNotFoundError:\n",
    "        print(f\"File not found: {file_path}\")\n",
    "    except Exception as e:\n",
    "        print(f\"Error loading file {file_path}: {e}\")\n",
    "\n",
    "# Load all batches\n",
    "base_path = r'..\\..\\2. CIFER-10\\Dataset\\cifar-10-batches-py'\n",
    "for i in range(1, 6):\n",
    "    file_path = os.path.join(base_path, f\"data_batch_{i}\")\n",
    "    file_open(file_path)\n",
    "\n",
    "# Convert the list of arrays into a single numpy array\n",
    "all_data = np.vstack(all_data)  \n",
    "all_labels = np.array(all_labels) \n",
    "\n",
    "print(f\"Data shape: {all_data.shape}\")  \n",
    "print(f\"Labels shape: {all_labels.shape}\")  \n"
   ]
  },
  {
   "cell_type": "code",
   "execution_count": 3,
   "metadata": {},
   "outputs": [],
   "source": [
    "img_3d = all_data[0].reshape((3, 32, 32))\n",
    "img = img_3d.transpose(1, 2, 0)"
   ]
  },
  {
   "cell_type": "code",
   "execution_count": 4,
   "metadata": {},
   "outputs": [],
   "source": [
    "data = pd.DataFrame({\n",
    "    'image_data': list(all_data),  # Each row will contain 3072 values for image data\n",
    "    'label': all_labels  # Fine-grained labels\n",
    "})"
   ]
  },
  {
   "cell_type": "code",
   "execution_count": 5,
   "metadata": {},
   "outputs": [],
   "source": [
    "data['image_data'] = data['image_data'].apply(\n",
    "    lambda x: np.array(x).reshape((3, 32, 32)).transpose(1, 2, 0)\n",
    ")"
   ]
  },
  {
   "cell_type": "code",
   "execution_count": 6,
   "metadata": {},
   "outputs": [],
   "source": [
    "data['image_data'] = data['image_data'] / 255.0"
   ]
  },
  {
   "cell_type": "code",
   "execution_count": 7,
   "metadata": {},
   "outputs": [],
   "source": [
    "data['image_data'] = data['image_data'].map(lambda x: (np.round(x, 2)))"
   ]
  },
  {
   "cell_type": "code",
   "execution_count": null,
   "metadata": {},
   "outputs": [
    {
     "name": "stdout",
     "output_type": "stream",
     "text": [
      "dict_keys(['batch_label', 'labels', 'data', 'filenames'])\n"
     ]
    }
   ],
   "source": [
    "import pickle\n",
    "\n",
    "# Path to the CIFAR-100 train file\n",
    "file_path = r'..\\..\\2. CIFER-10\\Dataset\\cifar-10-batches-py\\test_batch'\n",
    "\n",
    "# Load the data using pickle with the correct encoding\n",
    "with open(file_path, 'rb') as f:\n",
    "    test_dict = pickle.load(f, encoding='latin1')\n",
    "\n",
    "# The data_dict will contain the images and their corresponding labels\n",
    "print(test_dict.keys()) "
   ]
  },
  {
   "cell_type": "code",
   "execution_count": 9,
   "metadata": {},
   "outputs": [],
   "source": [
    "test = pd.DataFrame({\n",
    "    'image_data': list(test_dict['data']),  # Each row will contain 3072 values for image data\n",
    "    'label': test_dict['labels']  # Fine-grained labels\n",
    "})"
   ]
  },
  {
   "cell_type": "code",
   "execution_count": 10,
   "metadata": {},
   "outputs": [],
   "source": [
    "test['image_data'] = test['image_data'].apply(\n",
    "    lambda x: np.array(x).reshape((3, 32, 32)).transpose(1, 2, 0)\n",
    ")"
   ]
  },
  {
   "cell_type": "code",
   "execution_count": 11,
   "metadata": {},
   "outputs": [],
   "source": [
    "test['image_data'] = test['image_data'] / 255.0"
   ]
  },
  {
   "cell_type": "code",
   "execution_count": 12,
   "metadata": {},
   "outputs": [],
   "source": [
    "test['image_data'] = test['image_data'].map(lambda x: (np.round(x, 2)))"
   ]
  },
  {
   "cell_type": "code",
   "execution_count": null,
   "metadata": {},
   "outputs": [],
   "source": [
    "train_images = np.array(data['image_data'].tolist())  # Convert list of 3D arrays to numpy array\n",
    "train_labels = np.array(data['label'])  "
   ]
  },
  {
   "cell_type": "code",
   "execution_count": 15,
   "metadata": {},
   "outputs": [],
   "source": [
    "test_image = np.array(test['image_data'].tolist())  # Convert list of 3D arrays to numpy array\n",
    "test_label = np.array(test['label'])  "
   ]
  },
  {
   "cell_type": "markdown",
   "metadata": {},
   "source": [
    "### Model"
   ]
  },
  {
   "cell_type": "code",
   "execution_count": 16,
   "metadata": {},
   "outputs": [],
   "source": [
    "model = tf.keras.models.load_model(r\"..\\..\\2. CIFER-10\\\\VGG.h5\")"
   ]
  },
  {
   "cell_type": "code",
   "execution_count": 17,
   "metadata": {},
   "outputs": [],
   "source": [
    "model.compile(loss=tf.keras.losses.sparse_categorical_crossentropy,\n",
    "              optimizer=tf.keras.optimizers.SGD(learning_rate=0.0000001),\n",
    "              metrics=[tf.keras.metrics.sparse_categorical_accuracy])"
   ]
  },
  {
   "cell_type": "code",
   "execution_count": 18,
   "metadata": {},
   "outputs": [
    {
     "name": "stdout",
     "output_type": "stream",
     "text": [
      "1563/1563 [==============================] - 15s 8ms/step - loss: 0.0544 - sparse_categorical_accuracy: 0.9818\n"
     ]
    }
   ],
   "source": [
    "training = model.fit(train_images, train_labels, epochs=1)"
   ]
  },
  {
   "cell_type": "code",
   "execution_count": 19,
   "metadata": {},
   "outputs": [],
   "source": [
    "test_images = tf.convert_to_tensor(test_images, dtype=tf.float32)"
   ]
  },
  {
   "cell_type": "code",
   "execution_count": 22,
   "metadata": {},
   "outputs": [],
   "source": [
    "from tensorflow.keras.losses import SparseCategoricalCrossentropy\n",
    "\n",
    "# Define loss function\n",
    "loss_object = SparseCategoricalCrossentropy()"
   ]
  },
  {
   "cell_type": "code",
   "execution_count": 23,
   "metadata": {},
   "outputs": [],
   "source": [
    "classifier = TensorFlowV2Classifier(model=model, nb_classes=10, input_shape=(32, 32, 3), clip_values=(0, 1), loss_object=loss_object, channels_first=False)"
   ]
  },
  {
   "cell_type": "code",
   "execution_count": 24,
   "metadata": {},
   "outputs": [],
   "source": [
    "from art.attacks.evasion import CarliniL2Method"
   ]
  },
  {
   "cell_type": "code",
   "execution_count": 25,
   "metadata": {},
   "outputs": [],
   "source": [
    "test_images = test_images.numpy() if isinstance(test_images, tf.Tensor) else test_images"
   ]
  },
  {
   "cell_type": "code",
   "execution_count": null,
   "metadata": {},
   "outputs": [],
   "source": [
    "num_samples = test_images.shape[0]\n",
    "\n",
    "# Select 500 random indices without replacement\n",
    "random_indices = np.random.choice(num_samples, 500, replace=False)\n",
    "\n",
    "# Select corresponding images\n",
    "selected_images = test_images[random_indices]\n"
   ]
  },
  {
   "cell_type": "code",
   "execution_count": null,
   "metadata": {},
   "outputs": [
    {
     "data": {
      "image/png": "[encoded data removed]",
      "text/plain": [
       "<Figure size 640x480 with 1 Axes>"
      ]
     },
     "metadata": {},
     "output_type": "display_data"
    }
   ],
   "source": [
    "plt.imshow(selected_images[1])\n",
    "plt.title(\"Original CIFAR-10 Image\")\n",
    "plt.axis(\"off\") \n",
    "plt.show()"
   ]
  },
  {
   "cell_type": "markdown",
   "metadata": {},
   "source": [
    "### Model's 50 lowest confidence prediction"
   ]
  },
  {
   "cell_type": "code",
   "execution_count": 36,
   "metadata": {},
   "outputs": [],
   "source": [
    "predictions = model.predict(test_images)"
   ]
  },
  {
   "cell_type": "code",
   "execution_count": 37,
   "metadata": {},
   "outputs": [],
   "source": [
    "confidence_score = np.max(predictions, axis=1)"
   ]
  },
  {
   "cell_type": "code",
   "execution_count": 38,
   "metadata": {},
   "outputs": [],
   "source": [
    "least_confidence_indices = np.argsort(confidence_score)[:10]"
   ]
  },
  {
   "cell_type": "code",
   "execution_count": 39,
   "metadata": {},
   "outputs": [],
   "source": [
    "least_confidence_images = test_images[least_confidence_indices]\n",
    "least_confidence_labels = test_label[least_confidence_indices]"
   ]
  },
  {
   "cell_type": "code",
   "execution_count": null,
   "metadata": {},
   "outputs": [],
   "source": [
    "attack_cw_4 = CarliniL2Method(\n",
    "    classifier=classifier,\n",
    "    learning_rate=0.01, \n",
    "    initial_const=0.01, \n",
    ")"
   ]
  },
  {
   "cell_type": "code",
   "execution_count": null,
   "metadata": {},
   "outputs": [
    {
     "name": "stderr",
     "output_type": "stream",
     "text": [
      "C&W L_2: 100%|██████████| 1/1 [01:24<00:00, 84.69s/it]\n"
     ]
    }
   ],
   "source": [
    "x_test_adv_4 = attack_cw_4.generate(least_confidence_images[3:4])"
   ]
  },
  {
   "cell_type": "code",
   "execution_count": null,
   "metadata": {},
   "outputs": [
    {
     "data": {
      "image/png": "[encoded data removed]",
      "text/plain": [
       "<Figure size 640x480 with 1 Axes>"
      ]
     },
     "metadata": {},
     "output_type": "display_data"
    }
   ],
   "source": [
    "plt.imshow(test_images[least_confidence_indices[0]]) \n",
    "plt.title(\"Adversalial CIFAR-10 Image\")\n",
    "plt.axis(\"off\")\n",
    "plt.show()"
   ]
  },
  {
   "cell_type": "code",
   "execution_count": null,
   "metadata": {},
   "outputs": [
    {
     "data": {
      "image/png": "[encoded data removed]",
      "text/plain": [
       "<Figure size 640x480 with 1 Axes>"
      ]
     },
     "metadata": {},
     "output_type": "display_data"
    }
   ],
   "source": [
    "plt.imshow(x_test_adv_4[0]) \n",
    "plt.title(\"Adversalial CIFAR-10 Image\")\n",
    "plt.axis(\"off\")\n",
    "plt.show()"
   ]
  },
  {
   "cell_type": "code",
   "execution_count": null,
   "metadata": {},
   "outputs": [
    {
     "name": "stdout",
     "output_type": "stream",
     "text": [
      "Average perturbation: 0.0000148492\n"
     ]
    }
   ],
   "source": [
    "perturbation = np.mean(np.abs(x_test_adv_4 - least_confidence_images))\n",
    "print(f\"Average perturbation: {perturbation:.10f}\")"
   ]
  },
  {
   "cell_type": "code",
   "execution_count": null,
   "metadata": {},
   "outputs": [
    {
     "name": "stdout",
     "output_type": "stream",
     "text": [
      "Image 0:\n",
      "Original Label: 5, Original Pred: 9, Adversarial Pred: 3\n"
     ]
    }
   ],
   "source": [
    "original_preds = np.argmax(model.predict(least_confidence_images), axis=1)\n",
    "adv_preds = np.argmax(model.predict(x_test_adv_4), axis=1)\n",
    "\n",
    "\n",
    "for i in range(1):\n",
    "    print(f\"Image {i}:\")\n",
    "    print(f\"Original Label: {least_confidence_labels[i]}, \"\n",
    "          f\"Original Pred: {original_preds[i]}, \"\n",
    "          f\"Adversarial Pred: {adv_preds[i]}\")"
   ]
  },
  {
   "cell_type": "markdown",
   "metadata": {},
   "source": [
    "### CarliniL2Method For Correct Prediction of Model"
   ]
  },
  {
   "cell_type": "code",
   "execution_count": 76,
   "metadata": {},
   "outputs": [],
   "source": [
    "least_confidence_indices = np.argsort(confidence_score)[:50]\n",
    "least_confidence_images = test_images[least_confidence_indices]\n",
    "least_confidence_labels = test_label[least_confidence_indices]"
   ]
  },
  {
   "cell_type": "code",
   "execution_count": null,
   "metadata": {},
   "outputs": [
    {
     "name": "stdout",
     "output_type": "stream",
     "text": [
      "Image 0:\n",
      "Original Label: 5, Original Pred: 9, \n",
      "Image 1:\n",
      "Original Label: 4, Original Pred: 2, \n",
      "Image 2:\n",
      "Original Label: 8, Original Pred: 6, \n",
      "Image 3:\n",
      "Original Label: 2, Original Pred: 5, \n",
      "Image 4:\n",
      "Original Label: 2, Original Pred: 2, \n",
      "Image 5:\n",
      "Original Label: 5, Original Pred: 2, \n",
      "Image 6:\n",
      "Original Label: 3, Original Pred: 9, \n",
      "Image 7:\n",
      "Original Label: 8, Original Pred: 3, \n",
      "Image 8:\n",
      "Original Label: 1, Original Pred: 9, \n",
      "Image 9:\n",
      "Original Label: 2, Original Pred: 4, \n",
      "Image 10:\n",
      "Original Label: 3, Original Pred: 7, \n",
      "Image 11:\n",
      "Original Label: 3, Original Pred: 4, \n",
      "Image 12:\n",
      "Original Label: 2, Original Pred: 3, \n",
      "Image 13:\n",
      "Original Label: 2, Original Pred: 6, \n",
      "Image 14:\n",
      "Original Label: 9, Original Pred: 3, \n",
      "Image 15:\n",
      "Original Label: 4, Original Pred: 6, \n",
      "Image 16:\n",
      "Original Label: 5, Original Pred: 5, \n",
      "Image 17:\n",
      "Original Label: 5, Original Pred: 2, \n",
      "Image 18:\n",
      "Original Label: 6, Original Pred: 6, \n",
      "Image 19:\n",
      "Original Label: 1, Original Pred: 3, \n",
      "Image 20:\n",
      "Original Label: 7, Original Pred: 3, \n",
      "Image 21:\n",
      "Original Label: 1, Original Pred: 1, \n",
      "Image 22:\n",
      "Original Label: 5, Original Pred: 5, \n",
      "Image 23:\n",
      "Original Label: 5, Original Pred: 6, \n",
      "Image 24:\n",
      "Original Label: 5, Original Pred: 7, \n",
      "Image 25:\n",
      "Original Label: 6, Original Pred: 6, \n",
      "Image 26:\n",
      "Original Label: 4, Original Pred: 5, \n",
      "Image 27:\n",
      "Original Label: 4, Original Pred: 3, \n",
      "Image 28:\n",
      "Original Label: 3, Original Pred: 7, \n",
      "Image 29:\n",
      "Original Label: 5, Original Pred: 7, \n",
      "Image 30:\n",
      "Original Label: 7, Original Pred: 7, \n",
      "Image 31:\n",
      "Original Label: 2, Original Pred: 2, \n",
      "Image 32:\n",
      "Original Label: 1, Original Pred: 1, \n",
      "Image 33:\n",
      "Original Label: 1, Original Pred: 1, \n",
      "Image 34:\n",
      "Original Label: 2, Original Pred: 9, \n",
      "Image 35:\n",
      "Original Label: 2, Original Pred: 7, \n",
      "Image 36:\n",
      "Original Label: 6, Original Pred: 5, \n",
      "Image 37:\n",
      "Original Label: 6, Original Pred: 3, \n",
      "Image 38:\n",
      "Original Label: 0, Original Pred: 0, \n",
      "Image 39:\n",
      "Original Label: 6, Original Pred: 4, \n",
      "Image 40:\n",
      "Original Label: 1, Original Pred: 6, \n",
      "Image 41:\n",
      "Original Label: 3, Original Pred: 3, \n",
      "Image 42:\n",
      "Original Label: 4, Original Pred: 2, \n",
      "Image 43:\n",
      "Original Label: 0, Original Pred: 4, \n",
      "Image 44:\n",
      "Original Label: 8, Original Pred: 4, \n",
      "Image 45:\n",
      "Original Label: 9, Original Pred: 1, \n",
      "Image 46:\n",
      "Original Label: 5, Original Pred: 3, \n",
      "Image 47:\n",
      "Original Label: 0, Original Pred: 0, \n",
      "Image 48:\n",
      "Original Label: 2, Original Pred: 3, \n",
      "Image 49:\n",
      "Original Label: 0, Original Pred: 6, \n"
     ]
    }
   ],
   "source": [
    "original_preds = np.argmax(model.predict(least_confidence_images), axis=1)\n",
    "\n",
    "for i in range(50):\n",
    "    print(f\"Image {i}:\")\n",
    "    print(f\"Original Label: {least_confidence_labels[i]}, \"\n",
    "          f\"Original Pred: {original_preds[i]}, \")"
   ]
  },
  {
   "cell_type": "code",
   "execution_count": 78,
   "metadata": {},
   "outputs": [
    {
     "data": {
      "text/plain": [
       "(32, 32, 3)"
      ]
     },
     "execution_count": 78,
     "metadata": {},
     "output_type": "execute_result"
    }
   ],
   "source": [
    "least_confidence_images[4].shape"
   ]
  },
  {
   "cell_type": "code",
   "execution_count": 48,
   "metadata": {},
   "outputs": [],
   "source": [
    "original_image = np.expand_dims(least_confidence_images[4], axis=0)"
   ]
  },
  {
   "cell_type": "code",
   "execution_count": 49,
   "metadata": {},
   "outputs": [
    {
     "name": "stderr",
     "output_type": "stream",
     "text": [
      "C&W L_2: 100%|██████████| 1/1 [00:04<00:00,  4.14s/it]\n"
     ]
    }
   ],
   "source": [
    "adv_img = attack_cw_4.generate(original_image)"
   ]
  },
  {
   "cell_type": "code",
   "execution_count": 50,
   "metadata": {},
   "outputs": [],
   "source": [
    "adv_pred = np.argmax(classifier.predict(adv_img))"
   ]
  },
  {
   "cell_type": "code",
   "execution_count": 53,
   "metadata": {},
   "outputs": [
    {
     "data": {
      "text/plain": [
       "(-0.5, 31.5, 31.5, -0.5)"
      ]
     },
     "execution_count": 53,
     "metadata": {},
     "output_type": "execute_result"
    },
    {
     "data": {
      "image/png": "[encoded data removed]",
      "text/plain": [
       "<Figure size 640x480 with 2 Axes>"
      ]
     },
     "metadata": {},
     "output_type": "display_data"
    }
   ],
   "source": [
    "plt.subplot(1, 2, 1)\n",
    "plt.imshow(least_confidence_images[4])\n",
    "plt.title(f\"Original Image (Label: {least_confidence_labels[4]})\")\n",
    "plt.axis(\"off\")\n",
    "\n",
    "plt.subplot(1, 2, 2)\n",
    "plt.imshow(adv_img[0])\n",
    "plt.title(f\"Adversarial Image (Label: {adv_pred})\")\n",
    "plt.axis(\"off\")"
   ]
  },
  {
   "cell_type": "code",
   "execution_count": 57,
   "metadata": {},
   "outputs": [
    {
     "name": "stdout",
     "output_type": "stream",
     "text": [
      "Average perturbation: 0.0000142759\n"
     ]
    }
   ],
   "source": [
    "perturbation = np.mean(np.abs(least_confidence_images[4] - adv_img[0]))\n",
    "print(f\"Average perturbation: {perturbation:.10f}\")"
   ]
  },
  {
   "cell_type": "markdown",
   "metadata": {},
   "source": [
    "### Creating Adversarial Dataset"
   ]
  },
  {
   "cell_type": "code",
   "execution_count": 79,
   "metadata": {},
   "outputs": [],
   "source": [
    "adversarial_image = least_confidence_images"
   ]
  },
  {
   "cell_type": "code",
   "execution_count": 80,
   "metadata": {},
   "outputs": [
    {
     "data": {
      "text/plain": [
       "(50, 32, 32, 3)"
      ]
     },
     "execution_count": 80,
     "metadata": {},
     "output_type": "execute_result"
    }
   ],
   "source": [
    "adversarial_image.shape"
   ]
  },
  {
   "cell_type": "code",
   "execution_count": 81,
   "metadata": {},
   "outputs": [
    {
     "name": "stderr",
     "output_type": "stream",
     "text": [
      "C&W L_2: 100%|██████████| 50/50 [03:10<00:00,  3.82s/it]\n"
     ]
    }
   ],
   "source": [
    "adv_data = attack_cw_4.generate(adversarial_image)"
   ]
  },
  {
   "cell_type": "markdown",
   "metadata": {},
   "source": [
    "### Defense"
   ]
  },
  {
   "cell_type": "code",
   "execution_count": 28,
   "metadata": {},
   "outputs": [],
   "source": [
    "from art.defences.preprocessor import FeatureSqueezing"
   ]
  },
  {
   "cell_type": "code",
   "execution_count": 29,
   "metadata": {},
   "outputs": [],
   "source": [
    "fs = FeatureSqueezing(bit_depth=8, clip_values=(0, 1))"
   ]
  },
  {
   "cell_type": "code",
   "execution_count": 30,
   "metadata": {},
   "outputs": [],
   "source": [
    "x_test_defended, _ = fs(test_image)"
   ]
  },
  {
   "cell_type": "code",
   "execution_count": 33,
   "metadata": {},
   "outputs": [
    {
     "name": "stdout",
     "output_type": "stream",
     "text": [
      "Accuracy before feature Squeezing:  0.806\n"
     ]
    }
   ],
   "source": [
    "accuracy_before = np.mean(np.argmax(classifier.predict(test_image), axis=1) == test_label)\n",
    "print(\"Accuracy before feature Squeezing: \", accuracy_before)"
   ]
  },
  {
   "cell_type": "code",
   "execution_count": 34,
   "metadata": {},
   "outputs": [
    {
     "name": "stdout",
     "output_type": "stream",
     "text": [
      "Accuracy after feature Squeezing:  0.8055\n"
     ]
    }
   ],
   "source": [
    "accuracy_after = np.mean(np.argmax(classifier.predict(x_test_defended), axis=1) == test_label)\n",
    "print(\"Accuracy after feature Squeezing: \", accuracy_after)"
   ]
  },
  {
   "cell_type": "code",
   "execution_count": 82,
   "metadata": {},
   "outputs": [],
   "source": [
    "x_adv_defended, _ = fs(adv_data)"
   ]
  },
  {
   "cell_type": "markdown",
   "metadata": {},
   "source": [
    "Model Accuracy on model's lowest 50 confidence predictions"
   ]
  },
  {
   "cell_type": "code",
   "execution_count": 83,
   "metadata": {},
   "outputs": [
    {
     "name": "stdout",
     "output_type": "stream",
     "text": [
      "Accuracy on adversarial data before feature Squeezing:  0.26\n"
     ]
    }
   ],
   "source": [
    "original_acc = np.mean(np.argmax(classifier.predict(least_confidence_images), axis=1) == least_confidence_labels)\n",
    "print(\"Accuracy on adversarial data before feature Squeezing: \", original_acc)"
   ]
  },
  {
   "cell_type": "markdown",
   "metadata": {},
   "source": [
    "Model Accuracy on adversarial data"
   ]
  },
  {
   "cell_type": "code",
   "execution_count": 84,
   "metadata": {},
   "outputs": [
    {
     "name": "stdout",
     "output_type": "stream",
     "text": [
      "Accuracy on adversarial data before feature Squeezing:  0.04\n"
     ]
    }
   ],
   "source": [
    "acc_adv_before = np.mean(np.argmax(classifier.predict(adv_data), axis=1) == np.argmax(model.predict(adversarial_image), axis=1))\n",
    "print(\"Accuracy on adversarial data before feature Squeezing: \", acc_adv_before)"
   ]
  },
  {
   "cell_type": "markdown",
   "metadata": {},
   "source": [
    "Model's Accuracy on adversarial data after freature Squeezing"
   ]
  },
  {
   "cell_type": "code",
   "execution_count": 85,
   "metadata": {},
   "outputs": [
    {
     "name": "stdout",
     "output_type": "stream",
     "text": [
      "Accuracy on adversarial data After feature Squeezing:  0.32\n"
     ]
    }
   ],
   "source": [
    "acc_adv_before = np.mean(np.argmax(classifier.predict(x_adv_defended), axis=1) == np.argmax(model.predict(adversarial_image), axis=1))\n",
    "print(\"Accuracy on adversarial data After feature Squeezing: \", acc_adv_before)"
   ]
  }
 ],
 "metadata": {
  "kernelspec": {
   "display_name": "mnist",
   "language": "python",
   "name": "python3"
  },
  "language_info": {
   "codemirror_mode": {
    "name": "ipython",
    "version": 3
   },
   "file_extension": ".py",
   "mimetype": "text/x-python",
   "name": "python",
   "nbconvert_exporter": "python",
   "pygments_lexer": "ipython3",
   "version": "3.8.20"
  }
 },
 "nbformat": 4,
 "nbformat_minor": 2
}
